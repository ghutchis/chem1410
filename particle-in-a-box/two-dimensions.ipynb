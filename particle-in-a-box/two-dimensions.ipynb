{
 "cells": [
  {
   "cell_type": "markdown",
   "id": "38af8554-2424-4bc4-b761-6d2b4a18e6fb",
   "metadata": {},
   "source": [
    "## CHEM 1410 - Quantum Chemistry and Spectroscopy\n",
    "## Particle in a 2D Box\n",
    "\n",
    "by Prof. Geoff Hutchison, University of Pittsburgh\n",
    "\n",
    "This notebook is designed for a demo -- how does the particle-in-a-box model work with a 2D box. (This is easier to graph than a 3D box)\n",
    "\n",
    "1. Take a look at the wavefunction and probabilities as you increase nx and ny\n",
    "2. Consider the energies of the wavefunctions. When are they **degenerate**?"
   ]
  },
  {
   "cell_type": "code",
   "execution_count": null,
   "id": "fa0ff802-7368-4b12-bc84-2ed45391cfc1",
   "metadata": {
    "jupyter": {
     "source_hidden": true
    }
   },
   "outputs": [],
   "source": [
    "import numpy as np\n",
    "import matplotlib.pyplot as plt\n",
    "from scipy.sparse import diags\n",
    "from scipy.sparse.linalg import eigs\n",
    "import ipywidgets as widgets\n",
    "from ipywidgets import interact, FloatSlider, IntSlider, Dropdown\n",
    "from IPython.display import display\n",
    "\n",
    "%config InlineBackend.figure_format = 'retina'"
   ]
  },
  {
   "cell_type": "code",
   "execution_count": null,
   "id": "b4f1b23d-0b43-4c27-9435-2b661c28bd83",
   "metadata": {
    "jupyter": {
     "source_hidden": true
    }
   },
   "outputs": [],
   "source": [
    "# constants in atomic units (ħ = m = 1)\n",
    "ħ = 1.0\n",
    "m = 1.0\n",
    "res = 200\n",
    "\n",
    "def psi_2d(nx, ny, Lx=1.0, Ly=1.0, mode=\"Probability\"):\n",
    "    x = np.linspace(0, Lx, res)\n",
    "    y = np.linspace(0, Ly, res)\n",
    "    X, Y = np.meshgrid(x, y, indexing='ij')\n",
    "    \n",
    "    norm = 2.0 / np.sqrt(Lx * Ly)\n",
    "    psi = norm * np.sin(nx * np.pi * X / Lx) * np.sin(ny * np.pi * Y / Ly)\n",
    "    \n",
    "    if mode == \"Probability\":\n",
    "        Z = psi**2\n",
    "        title = r\"$|\\psi(x,y)|^2$\"\n",
    "    else:\n",
    "        Z = psi\n",
    "        title = r\"$\\psi(x,y)$\"\n",
    "    \n",
    "    # energy\n",
    "    E = (ħ**2 * np.pi**2 / (2*m)) * (nx**2 / Lx**2 + ny**2 / Ly**2)\n",
    "    \n",
    "    plt.figure(figsize=(6,5))\n",
    "    plt.pcolormesh(X, Y, Z, shading='auto', cmap='viridis')\n",
    "    plt.colorbar(label=title)\n",
    "    plt.xlabel(\"x\")\n",
    "    plt.ylabel(\"y\")\n",
    "    plt.title(f\"2D Particle in a Box: n_x={nx}, n_y={ny}, E={E:.3f}\")\n",
    "    plt.show()\n",
    "\n",
    "interact(\n",
    "    psi_2d,\n",
    "    nx=IntSlider(value=1, min=1, max=5, step=1, description=\"n_x\"),\n",
    "    ny=IntSlider(value=1, min=1, max=5, step=1, description=\"n_y\"),\n",
    "    Lx=FloatSlider(value=1.0, min=0.5, max=3.0, step=0.1, description=\"Lx\"),\n",
    "    Ly=FloatSlider(value=1.0, min=0.5, max=3.0, step=0.1, description=\"Ly\"),\n",
    "    mode=Dropdown(options=[\"Probability\", \"Wavefunction\"], value=\"Probability\", description=\"Plot:\")\n",
    ");"
   ]
  }
 ],
 "metadata": {
  "kernelspec": {
   "display_name": "Python 3 (ipykernel)",
   "language": "python",
   "name": "python3"
  },
  "language_info": {
   "codemirror_mode": {
    "name": "ipython",
    "version": 3
   },
   "file_extension": ".py",
   "mimetype": "text/x-python",
   "name": "python",
   "nbconvert_exporter": "python",
   "pygments_lexer": "ipython3",
   "version": "3.12.2"
  }
 },
 "nbformat": 4,
 "nbformat_minor": 5
}
