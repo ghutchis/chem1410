{
 "cells": [
  {
   "cell_type": "code",
   "execution_count": null,
   "id": "fa0ff802-7368-4b12-bc84-2ed45391cfc1",
   "metadata": {},
   "outputs": [],
   "source": [
    "import numpy as np\n",
    "import matplotlib.pyplot as plt\n",
    "from scipy.sparse import diags\n",
    "from scipy.sparse.linalg import eigs\n",
    "import ipywidgets as widgets\n",
    "from ipywidgets import interact, FloatSlider, IntSlider, Dropdown\n",
    "from IPython.display import display"
   ]
  },
  {
   "cell_type": "code",
   "execution_count": null,
   "id": "9200a4cd-190c-423f-b953-7be806590648",
   "metadata": {},
   "outputs": [],
   "source": [
    "%config InlineBackend.figure_format = 'retina'"
   ]
  },
  {
   "cell_type": "code",
   "execution_count": null,
   "id": "b4f1b23d-0b43-4c27-9435-2b661c28bd83",
   "metadata": {},
   "outputs": [],
   "source": [
    "# constants in atomic units (ħ = m = 1)\n",
    "ħ = 1.0\n",
    "m = 1.0\n",
    "N = 200\n",
    "\n",
    "def solve_particle_in_sine(L=1.0, k=10.0, waves=1, n_show=3, probability=False):\n",
    "    # spatial grid\n",
    "    x = np.linspace(0, L, N)\n",
    "    dx = x[1] - x[0]\n",
    "    \n",
    "    # kinetic energy (finite difference Laplacian)\n",
    "    diag = np.ones(N)\n",
    "    offdiag = np.ones(N-1)\n",
    "    laplacian = (np.diag(-2*diag) + np.diag(offdiag,1) + np.diag(offdiag,-1)) / dx**2\n",
    "    T = -(ħ**2)/(2*m) * laplacian\n",
    "    \n",
    "    # potential\n",
    "    V = np.diag(k * np.sin(waves*np.pi*x))\n",
    "    \n",
    "    # Hamiltonian\n",
    "    H = T + V\n",
    "    \n",
    "    # solve eigenproblem\n",
    "    energies, states = np.linalg.eigh(H)\n",
    "    \n",
    "    # normalize states\n",
    "    for i in range(states.shape[1]):\n",
    "        states[:,i] /= np.sqrt(np.trapezoid(np.abs(states[:,i])**2, x))\n",
    "    \n",
    "    # plot\n",
    "    plt.figure(figsize=(7,5))\n",
    "\n",
    "    for n in range(n_show):\n",
    "        if probability:\n",
    "            prob_density = np.abs(states[:,n])**2\n",
    "            # scale for visibility\n",
    "            if n_show > 1:\n",
    "                scale = (energies[1] - energies[0]) * 0.8\n",
    "            else:\n",
    "                scale = energies[0] * 0.5 if energies[0] > 0 else 1.0\n",
    "            prob_density = prob_density / prob_density.max() * scale\n",
    "            plt.plot(x, prob_density + energies[n], label=f\"n={n+1}, E={energies[n]:.3f}\")\n",
    "        else:  # \"Wavefunction\"\n",
    "            plt.plot(x, states[:,n] + energies[n], label=f\"n={n+1}, E={energies[n]:.3f}\")\n",
    "    \n",
    "    plt.plot(x, np.diag(V), 'k--', alpha=0.6, label=\"V(x)\")\n",
    "    plt.xlabel(\"x\")\n",
    "    if probability:\n",
    "        plt.ylabel(r\"$|\\psi(x)|^2$ (scaled) + Energy offset\")\n",
    "    else:\n",
    "        plt.ylabel(r\"$\\psi(x)$ + Energy offset\")\n",
    "    plt.legend()\n",
    "    plt.title(f\"Particle in a Sine Potential (Amp={k:.2f})\")\n",
    "    plt.show()\n",
    "\n",
    "# interactive widget\n",
    "interact(\n",
    "    solve_particle_in_sine,\n",
    "    probability=[('Probability', True), ('Wavefunction', False)],\n",
    "    L=FloatSlider(value=1.0, min=0.5, max=5.0, step=0.1, description=\"Length\"),\n",
    "    k=FloatSlider(value=10.0, min=0.0, max=50.0, step=1.0, description=\"Wave Amplitude\"),\n",
    "    waves=IntSlider(value=1, min=1, max=6, step=1, description=\"# of sin waves\"),\n",
    "    n_show=IntSlider(value=3, min=1, max=6, step=1, description=\"# of States\")\n",
    ");\n"
   ]
  },
  {
   "cell_type": "code",
   "execution_count": null,
   "id": "ec881b1d-eecf-4226-b812-3414b6707ea0",
   "metadata": {},
   "outputs": [],
   "source": []
  }
 ],
 "metadata": {
  "kernelspec": {
   "display_name": "Python 3 (ipykernel)",
   "language": "python",
   "name": "python3"
  },
  "language_info": {
   "codemirror_mode": {
    "name": "ipython",
    "version": 3
   },
   "file_extension": ".py",
   "mimetype": "text/x-python",
   "name": "python",
   "nbconvert_exporter": "python",
   "pygments_lexer": "ipython3",
   "version": "3.12.2"
  }
 },
 "nbformat": 4,
 "nbformat_minor": 5
}
